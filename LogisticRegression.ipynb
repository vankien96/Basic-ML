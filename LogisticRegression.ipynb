{
 "cells": [
  {
   "cell_type": "code",
   "execution_count": 63,
   "metadata": {},
   "outputs": [],
   "source": [
    "import numpy as np\n",
    "from sklearn.datasets import fetch_mldata\n",
    "import matplotlib\n",
    "import matplotlib.pyplot as plt\n",
    "from sklearn.linear_model import LogisticRegression\n",
    "from sklearn.metrics import accuracy_score\n",
    "from sklearn.model_selection import train_test_split\n",
    "from sklearn.externals import joblib\n",
    "import cv2\n",
    "from sklearn.metrics import classification_report, confusion_matrix\n",
    "from collections import OrderedDict"
   ]
  },
  {
   "cell_type": "code",
   "execution_count": 76,
   "metadata": {},
   "outputs": [
    {
     "name": "stdout",
     "output_type": "stream",
     "text": [
      "[[0. 0. 0. ... 1. 1. 1.]]\n"
     ]
    }
   ],
   "source": [
    "mnist = fetch_mldata(dataname='mnist-original', data_name='D:/Python/HeThongThoiGianThuc/mldata')\n",
    "\n",
    "X, y = mnist[\"data\"], mnist[\"target\"]\n",
    "X = X / 255\n",
    "\n",
    "digits = 2\n",
    "\n",
    "x0 = X[np.where(y==0)[0]]\n",
    "x1 = X[np.where(y==1)[0]]\n",
    "y0 = np.zeros(x0.shape[0])\n",
    "y1 = np.ones(x1.shape[0])\n",
    "X = np.concatenate((x0, x1), axis = 0)\n",
    "y = np.concatenate((y0, y1))\n",
    "examples = y.shape[0]\n",
    "y = y.reshape(1, examples)\n",
    "print(y)"
   ]
  },
  {
   "cell_type": "code",
   "execution_count": 77,
   "metadata": {},
   "outputs": [
    {
     "name": "stdout",
     "output_type": "stream",
     "text": [
      "[[1. 1. 1. ... 0. 0. 0.]\n",
      " [0. 0. 0. ... 1. 1. 1.]]\n"
     ]
    }
   ],
   "source": [
    "Y_new = np.eye(digits)[y.astype('int32')]\n",
    "\n",
    "Y_new = Y_new.T.reshape(digits, examples)\n",
    "print(Y_new)"
   ]
  },
  {
   "cell_type": "code",
   "execution_count": 78,
   "metadata": {},
   "outputs": [],
   "source": [
    "m = 12000\n",
    "m_test = X.shape[0] - m\n",
    "\n",
    "X_train, X_test = X[:m].T, X[m:].T\n",
    "Y_train, Y_test = Y_new[:,:m], Y_new[:,m:]\n",
    "\n",
    "shuffle_index = np.random.permutation(m)\n",
    "X_train, Y_train = X_train[:, shuffle_index], Y_train[:, shuffle_index]"
   ]
  },
  {
   "cell_type": "code",
   "execution_count": 79,
   "metadata": {},
   "outputs": [],
   "source": [
    "\n",
    "def compute_multiclass_loss(Y, Y_hat):\n",
    "\n",
    "    L_sum = np.sum(np.multiply(Y, np.log(Y_hat)))\n",
    "    m = Y.shape[1]\n",
    "    L = -(1/m) * L_sum\n",
    "\n",
    "    return L"
   ]
  },
  {
   "cell_type": "code",
   "execution_count": 80,
   "metadata": {},
   "outputs": [],
   "source": [
    "def sigmoid(z):\n",
    "    return 1 / (1 + np.exp(-z))"
   ]
  },
  {
   "cell_type": "code",
   "execution_count": 81,
   "metadata": {},
   "outputs": [],
   "source": [
    "n_x = X_train.shape[0]\n",
    "n_h = 64\n",
    "learning_rate = 1\n",
    "\n",
    "W1 = np.random.randn(n_h, n_x)\n",
    "b1 = np.zeros((n_h, 1))\n",
    "W2 = np.random.randn(digits, n_h)\n",
    "b2 = np.zeros((digits, 1))\n",
    "\n",
    "X = X_train\n",
    "Y = Y_train"
   ]
  },
  {
   "cell_type": "code",
   "execution_count": 82,
   "metadata": {
    "scrolled": true
   },
   "outputs": [
    {
     "name": "stdout",
     "output_type": "stream",
     "text": [
      "Epoch 0 cost:  2.2890839116724875\n",
      "Epoch 100 cost:  0.013824005948261319\n",
      "Epoch 200 cost:  0.00908524394853885\n",
      "Epoch 300 cost:  0.006890711410866631\n",
      "Epoch 400 cost:  0.0055064834573056816\n",
      "Epoch 500 cost:  0.004525852462882583\n",
      "Epoch 600 cost:  0.003818487813949721\n",
      "Epoch 700 cost:  0.003286785292047624\n",
      "Epoch 800 cost:  0.002867194516425603\n",
      "Epoch 900 cost:  0.002524971222504018\n",
      "Epoch 1000 cost:  0.002241031241690527\n",
      "Epoch 1100 cost:  0.002003883312123642\n",
      "Epoch 1200 cost:  0.0018051059304428456\n",
      "Epoch 1300 cost:  0.0016375135278035716\n",
      "Epoch 1400 cost:  0.0014949599682621353\n",
      "Epoch 1500 cost:  0.001372515805919877\n",
      "Epoch 1600 cost:  0.001266425318559182\n",
      "Epoch 1700 cost:  0.0011738608828628302\n",
      "Epoch 1800 cost:  0.0010926403469950574\n",
      "Epoch 1900 cost:  0.0010210127009311787\n",
      "Final cost: 0.0009581308764275869\n",
      "[[1]\n",
      " [1]\n",
      " [1]\n",
      " ...\n",
      " [1]\n",
      " [1]\n",
      " [1]]\n",
      "[1 1 1 ... 1 1 1]\n",
      "[[   0    2]\n",
      " [   0 2778]]\n",
      "             precision    recall  f1-score   support\n",
      "\n",
      "          0       0.00      0.00      0.00         2\n",
      "          1       1.00      1.00      1.00      2778\n",
      "\n",
      "avg / total       1.00      1.00      1.00      2780\n",
      "\n"
     ]
    },
    {
     "name": "stderr",
     "output_type": "stream",
     "text": [
      "C:\\Users\\Admin\\Anaconda3\\lib\\site-packages\\sklearn\\metrics\\classification.py:1135: UndefinedMetricWarning: Precision and F-score are ill-defined and being set to 0.0 in labels with no predicted samples.\n",
      "  'precision', 'predicted', average, warn_for)\n"
     ]
    }
   ],
   "source": [
    "for i in range(2000):\n",
    "\n",
    "    Z1 = np.matmul(W1,X) + b1\n",
    "    A1 = sigmoid(Z1)\n",
    "    Z2 = np.matmul(W2,A1) + b2\n",
    "    A2 = np.exp(Z2) / np.sum(np.exp(Z2), axis=0)\n",
    "\n",
    "    cost = compute_multiclass_loss(Y, A2)\n",
    "\n",
    "    dZ2 = A2-Y\n",
    "    dW2 = (1./m) * np.matmul(dZ2, A1.T)\n",
    "    db2 = (1./m) * np.sum(dZ2, axis=1, keepdims=True)\n",
    "\n",
    "    dA1 = np.matmul(W2.T, dZ2)\n",
    "    dZ1 = dA1 * sigmoid(Z1) * (1 - sigmoid(Z1))\n",
    "    dW1 = (1./m) * np.matmul(dZ1, X.T)\n",
    "    db1 = (1./m) * np.sum(dZ1, axis=1, keepdims=True)\n",
    "\n",
    "    W2 = W2 - learning_rate * dW2\n",
    "    b2 = b2 - learning_rate * db2\n",
    "    W1 = W1 - learning_rate * dW1\n",
    "    b1 = b1 - learning_rate * db1\n",
    "\n",
    "    if (i % 100 == 0):\n",
    "        print(\"Epoch\", i, \"cost: \", cost)\n",
    "\n",
    "print(\"Final cost:\", cost)\n",
    "\n",
    "Z1 = np.matmul(W1, X_test) + b1\n",
    "A1 = sigmoid(Z1)\n",
    "Z2 = np.matmul(W2, A1) + b2\n",
    "A2 = np.exp(Z2) / np.sum(np.exp(Z2), axis=0)\n",
    "\n",
    "predictions = np.argmax(A2, axis=0)\n",
    "print(predictions.reshape(-1,1))\n",
    "labels = np.argmax(Y_test, axis=0)\n",
    "print(labels)\n",
    "\n",
    "\n",
    "print(confusion_matrix(predictions, labels))\n",
    "print(classification_report(predictions, labels))"
   ]
  },
  {
   "cell_type": "code",
   "execution_count": 83,
   "metadata": {},
   "outputs": [
    {
     "name": "stdout",
     "output_type": "stream",
     "text": [
      "(784, 1)\n",
      "(784, 1)\n",
      "(784, 1)\n",
      "(784, 1)\n",
      "(784, 1)\n",
      "(784, 1)\n",
      "(784, 1)\n",
      "(784, 1)\n",
      "(784, 1)\n",
      "(784, 1)\n",
      "(784, 1)\n",
      "(784, 1)\n"
     ]
    }
   ],
   "source": [
    "def is_inside(rect1, rect2):\n",
    "    if rect1[0] > rect2[0] and (rect1[0] + rect1[2]) < (rect2[0] + rect2[2]) and rect1[1] > rect2[1] and (rect1[1] + rect1[3]) < (rect2[1] + rect2[3]):\n",
    "        return True\n",
    "    else:\n",
    "        return False\n",
    "\n",
    "def check_contain_another_rect(rect, rects):\n",
    "    for item in rects:\n",
    "        if is_inside(rect, item):\n",
    "            return True\n",
    "    return False\n",
    "\n",
    "image = cv2.imread(\"D:/Python/HeThongThoiGianThuc/IMG.JPG\")\n",
    "height, width = image.shape[:2]\n",
    "scaledWidth = 900\n",
    "scaledHeight = int((scaledWidth * height) / width)\n",
    "image = cv2.resize(image, (scaledWidth, scaledHeight), fx= 0.5, fy=0.5, interpolation= cv2.INTER_AREA)\n",
    "im_gray = cv2.cvtColor(image, cv2.COLOR_BGR2GRAY)\n",
    "im_gray = cv2.GaussianBlur(im_gray, (5,5), 0)\n",
    "\n",
    "kernel = np.ones((3,3),dtype='uint8')\n",
    "ret, im_th = cv2.threshold(im_gray, 115, 255, cv2.THRESH_BINARY_INV)\n",
    "canny = cv2.Canny(im_th, 70, 170)\n",
    "# canny = cv2.dilate(canny, kernel, iterations = 1)\n",
    "_, ctrs, _ = cv2.findContours(canny.copy(), cv2.RETR_EXTERNAL, cv2.CHAIN_APPROX_SIMPLE)\n",
    "rects = [cv2.boundingRect(ctr) for ctr in ctrs]\n",
    "\n",
    "new_rects = []\n",
    "for rect in rects:\n",
    "    if rect[2] > 10 and rect[3] > 20 and rect[3] < 100 and not check_contain_another_rect(rect, rects):\n",
    "        new_rects.append(rect)\n",
    "\n",
    "# model = joblib.load(\"D:/Python/HeThongThoiGianThuc/mldata/digital.pkl\")\n",
    "\n",
    "new_rects = np.array(new_rects)\n",
    "data_input = OrderedDict()\n",
    "for rect in new_rects:\n",
    "    leng = int(rect[3] * 1.6)\n",
    "    pt1 = int(rect[1] + rect[3]/2 - leng/2)\n",
    "    pt2 = int(rect[0] + rect[2]/2 - leng/2)\n",
    "    roi = im_th[pt1: pt1 + leng, pt2: pt2+leng]\n",
    "    roi = cv2.resize(roi, (28, 28), interpolation=cv2.INTER_AREA)\n",
    "    number = np.array([roi]).reshape(1, (28*28))\n",
    "    data_input[(pt2,pt1, pt2 + leng, pt1+leng)] = number\n",
    "\n",
    "for point, number in data_input.items():\n",
    "    print(number.reshape(-1,1).shape)\n",
    "    Z1 = np.matmul(W1, number.reshape(-1,1)) + b1\n",
    "    A1 = sigmoid(Z1)\n",
    "    Z2 = np.matmul(W2, A1) + b2\n",
    "    A2 = np.exp(Z2) / np.sum(np.exp(Z2), axis=0)\n",
    "\n",
    "    predictions = np.argmax(A2, axis=0)\n",
    "    cv2.rectangle(im_gray, (point[0], point[1]), (point[2], point[3]), (0, 255, 0), 1)\n",
    "    cv2.putText(im_gray, str(int(predictions)), (point[0], point[1]), cv2.FONT_HERSHEY_SIMPLEX, 0.8, (0, 255, 0), 2)\n",
    "\n",
    "cv2.imshow(\"Image\", im_gray)\n",
    "cv2.waitKey(0)\n",
    "cv2.destroyAllWindows()"
   ]
  },
  {
   "cell_type": "code",
   "execution_count": 73,
   "metadata": {},
   "outputs": [
    {
     "name": "stdout",
     "output_type": "stream",
     "text": [
      "(784, 10780)\n"
     ]
    }
   ],
   "source": [
    "print(X_test.shape)"
   ]
  },
  {
   "cell_type": "code",
   "execution_count": null,
   "metadata": {},
   "outputs": [],
   "source": []
  }
 ],
 "metadata": {
  "kernelspec": {
   "display_name": "Python 3",
   "language": "python",
   "name": "python3"
  },
  "language_info": {
   "codemirror_mode": {
    "name": "ipython",
    "version": 3
   },
   "file_extension": ".py",
   "mimetype": "text/x-python",
   "name": "python",
   "nbconvert_exporter": "python",
   "pygments_lexer": "ipython3",
   "version": "3.6.5"
  }
 },
 "nbformat": 4,
 "nbformat_minor": 2
}
